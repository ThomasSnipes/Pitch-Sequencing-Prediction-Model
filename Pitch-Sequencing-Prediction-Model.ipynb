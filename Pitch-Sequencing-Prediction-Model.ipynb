{
 "cells": [
  {
   "cell_type": "markdown",
   "id": "3545dc52",
   "metadata": {},
   "source": [
    "# File: Use an LSTM model to predict ideal pitch sequencing between any pitcher/hitter pair"
   ]
  },
  {
   "cell_type": "code",
   "execution_count": 1,
   "id": "2577d95c",
   "metadata": {},
   "outputs": [
    {
     "name": "stderr",
     "output_type": "stream",
     "text": [
      "2025-02-23 19:52:01.710064: I tensorflow/core/platform/cpu_feature_guard.cc:210] This TensorFlow binary is optimized to use available CPU instructions in performance-critical operations.\n",
      "To enable the following instructions: AVX2 AVX512F AVX512_VNNI FMA, in other operations, rebuild TensorFlow with the appropriate compiler flags.\n"
     ]
    }
   ],
   "source": [
    "import pandas as pd\n",
    "import numpy as np\n",
    "import tensorflow as tf\n",
    "from sklearn.preprocessing import LabelEncoder, MinMaxScaler\n",
    "from tensorflow.keras.preprocessing.sequence import pad_sequences\n",
    "from sklearn.preprocessing import LabelEncoder, MinMaxScaler\n",
    "from tensorflow.keras.preprocessing.sequence import pad_sequences\n",
    "from tensorflow.keras.models import Sequential\n",
    "from tensorflow.keras.layers import LSTM, Dense, Masking\n",
    "from tensorflow.keras.optimizers import Adam"
   ]
  },
  {
   "cell_type": "markdown",
   "id": "c13d6735",
   "metadata": {},
   "source": [
    "## Experimenting with weighting good / bad outcomes\n",
    "* Using this as a temporary test in order to see how the model will react"
   ]
  },
  {
   "cell_type": "code",
   "execution_count": 12,
   "id": "5082002b",
   "metadata": {},
   "outputs": [],
   "source": [
    "df = pd.read_csv(\"pitch_data_ids.csv\")\n",
    "\n",
    "# Define effectiveness scores (arbitrarily)\n",
    "effectiveness_mapping = {\n",
    "    \"Swinging Strike\": 1.0,\n",
    "    \"Called Strike\": 0.9,\n",
    "    \"Foul\": 0.7,\n",
    "    \"Hit into Out\": 0.65,\n",
    "    \"Single\": 0.2,\n",
    "    \"Double\": 0.05,\n",
    "    \"Triple\": 0.05,\n",
    "    \"Ball\": 0.35,\n",
    "    \"Hit by Pitch\": 0.1,\n",
    "    \"Home Run\": 0.0,\n",
    "    \"Hit into Error\": 0.5\n",
    "}\n",
    "\n",
    "# Apply effectiveness score based on outcome\n",
    "df[\"effectiveness\"] = df[\"outcome\"].map(effectiveness_mapping)\n",
    "\n",
    "# Compute rolling effectiveness score within each at-bat\n",
    "df[\"rolling_effectiveness\"] = df.groupby(\"at_bat_id\")[\"effectiveness\"].expanding().mean().reset_index(level=0, drop=True)\n",
    "\n",
    "# Fill in any missing values with a neutral value\n",
    "df[\"rolling_effectiveness\"] = df[\"rolling_effectiveness\"].fillna(0.5)\n",
    "\n",
    "# Save updated dataset\n",
    "df.to_csv(\"pitch_data_effectiveness.csv\", index=False)\n",
    "\n",
    "print(df[[\"at_bat_id\", \"pitch_number\", \"outcome\", \"effectiveness\", \"rolling_effectiveness\"]].head(20))"
   ]
  },
  {
   "cell_type": "code",
   "execution_count": null,
   "id": "f2d92204",
   "metadata": {},
   "outputs": [],
   "source": [
    "df = pd.read_csv(\"pitch_data_effectiveness.csv\")\n",
    "\n",
    "# Split the 'count' column into 'balls' and 'strikes'\n",
    "df[['balls', 'strikes']] = df['count'].str.split('-', expand=True)\n",
    "df['balls'] = df['balls'].astype(int)\n",
    "df['strikes'] = df['strikes'].astype(int)\n",
    "df = df.drop(columns=['count'])\n",
    "\n",
    "# Encode categorical variables\n",
    "encoders = {}\n",
    "categorical_columns = [\"pitch_type\", \"bat_side\", \"outcome\"]\n",
    "for col in categorical_columns:\n",
    "    encoders[col] = LabelEncoder()\n",
    "    df[col] = encoders[col].fit_transform(df[col])\n",
    "\n",
    "# Normalize velocity\n",
    "scaler = MinMaxScaler()\n",
    "df[\"velocity\"] = scaler.fit_transform(df[[\"velocity\"]])\n",
    "\n",
    "grouped = df.groupby(\"at_bat_id\")\n",
    "sequences = []\n",
    "labels = []\n",
    "\n",
    "for _, group in grouped:\n",
    "    # Get the pitches for the current at-bat\n",
    "    X = group[[\"pitch_number\", \"balls\", \"strikes\", \"pitch_type\", \"velocity\", \"outcome\", \"effectiveness\", \"rolling_effectiveness\"]].values\n",
    "    # Get the next pitch type as the label\n",
    "    y = group[\"pitch_type\"].shift(-1).dropna().values  # Predict next pitch type\n",
    "    \n",
    "    sequences.append(X[:-1])  # Remove last pitch (no next pitch)\n",
    "    labels.append(y)          # Use the rest as labels (the next pitch)\n",
    "\n",
    "# Check if labels are aligned properly\n",
    "print(f\"Number of sequences: {len(sequences)}\")\n",
    "print(f\"Number of labels: {len(labels)}\")\n",
    "\n",
    "# Pad sequences for uniform length\n",
    "max_seq_length = max(len(seq) for seq in sequences)\n",
    "X_padded = pad_sequences(sequences, maxlen=max_seq_length, padding=\"post\", dtype=\"float32\")\n",
    "\n",
    "# Pad labels to match shape of X_padded\n",
    "y_padded = pad_sequences(labels, maxlen=max_seq_length, padding=\"post\", dtype=\"float32\")\n",
    "\n",
    "# Reshape labels to be 1D\n",
    "y_padded = np.reshape(y_padded, (-1,))\n",
    "\n",
    "# Check the shapes\n",
    "print(f\"X_padded shape: {X_padded.shape}\")\n",
    "print(f\"y_padded shape: {y_padded.shape}\")\n",
    "print(np.unique(y_padded))\n",
    "\n",
    "# Define the model\n",
    "model = Sequential([\n",
    "    Masking(mask_value=0.0, input_shape=(max_seq_length, X_padded.shape[2])),\n",
    "    LSTM(64, return_sequences=True),\n",
    "    LSTM(32),\n",
    "    Dense(12, activation=\"softmax\")  # 12 output units for 12 pitch types\n",
    "])\n",
    "\n",
    "# Compile the model\n",
    "model.compile(loss=\"sparse_categorical_crossentropy\", optimizer=\"adam\", metrics=[\"accuracy\"])\n",
    "\n",
    "# Train the model\n",
    "model.fit(X_padded, y_padded, epochs=30, batch_size=64, validation_split=0.2)"
   ]
  },
  {
   "cell_type": "code",
   "execution_count": null,
   "id": "8b17ead0",
   "metadata": {},
   "outputs": [],
   "source": [
    "model.summary()"
   ]
  }
 ],
 "metadata": {
  "kernelspec": {
   "display_name": "Python 3 (ipykernel)",
   "language": "python",
   "name": "python3"
  },
  "language_info": {
   "codemirror_mode": {
    "name": "ipython",
    "version": 3
   },
   "file_extension": ".py",
   "mimetype": "text/x-python",
   "name": "python",
   "nbconvert_exporter": "python",
   "pygments_lexer": "ipython3",
   "version": "3.9.19"
  }
 },
 "nbformat": 4,
 "nbformat_minor": 5
}
