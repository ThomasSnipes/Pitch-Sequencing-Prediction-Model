{
 "cells": [
  {
   "cell_type": "markdown",
   "id": "3545dc52",
   "metadata": {},
   "source": [
    "# File: Use an LSTM model to predict ideal pitch sequencing between any pitcher/hitter pair"
   ]
  },
  {
   "cell_type": "code",
   "execution_count": 159,
   "id": "2577d95c",
   "metadata": {},
   "outputs": [],
   "source": [
    "import pandas as pd\n",
    "import numpy as np\n",
    "import tensorflow as tf\n",
    "from sklearn.preprocessing import LabelEncoder, MinMaxScaler, StandardScaler, OneHotEncoder\n",
    "from tensorflow.keras.preprocessing.sequence import pad_sequences\n",
    "from tensorflow.keras.models import Sequential\n",
    "from tensorflow.keras.layers import LSTM, Dense, Masking\n",
    "from tensorflow.keras.optimizers import Adam\n",
    "from sklearn.metrics import confusion_matrix\n",
    "from sklearn.model_selection import train_test_split\n",
    "from tensorflow.keras.utils import to_categorical\n",
    "from sklearn.metrics import classification_report"
   ]
  },
  {
   "cell_type": "code",
   "execution_count": 48,
   "id": "8b17ead0",
   "metadata": {},
   "outputs": [
    {
     "name": "stdout",
     "output_type": "stream",
     "text": [
      "Hitter data merged correctly, including all metrics.\n"
     ]
    }
   ],
   "source": [
    "# Load each hitter dataset\n",
    "hitter_hhm = pd.read_csv('hitter_horizontal_movement.csv')\n",
    "hitter_hvm = pd.read_csv('hitter_vertical_movement.csv')\n",
    "hitter_hpvs = pd.read_csv('hitter_pitch_values.csv')\n",
    "hitter_hvs = pd.read_csv('hitter_velocities_seen.csv')\n",
    "hitter_pd = pd.read_csv('hitter_plate_discipline.csv')\n",
    "\n",
    "# Drop the columns PA, NameASCII, PlayerId, Team, and Name from all dataframes except 'hitter_hhm'\n",
    "hitter_hhm = hitter_hhm.drop(columns=['NameASCII', 'PlayerId'], errors='ignore')\n",
    "hitter_hvm = hitter_hvm.drop(columns=['PA', 'NameASCII', 'PlayerId', 'Team', 'Name'], errors='ignore')\n",
    "hitter_hpvs = hitter_hpvs.drop(columns=['PA', 'NameASCII', 'PlayerId', 'Team', 'Name'], errors='ignore')\n",
    "hitter_hvs = hitter_hvs.drop(columns=['PA', 'NameASCII', 'PlayerId', 'Team', 'Name'], errors='ignore')\n",
    "hitter_pd = hitter_pd.drop(columns=['PA', 'NameASCII', 'PlayerId', 'Team', 'Name'], errors='ignore')\n",
    "\n",
    "# Merge them on 'MLBAMID'\n",
    "hitter_data = hitter_hhm.merge(hitter_hvs, on='MLBAMID', how='left') \\\n",
    "                        .merge(hitter_hpvs, on='MLBAMID', how='left') \\\n",
    "                        .merge(hitter_hvm, on='MLBAMID', how='left') \\\n",
    "                        .merge(hitter_pd, on='MLBAMID', how='left')\n",
    "\n",
    "column_order = ['MLBAMID', 'Name', 'Team'] + [col for col in hitter_data.columns if col not in ['MLBAMID', 'Name', 'Team']]\n",
    "hitter_data = hitter_data[column_order]\n",
    "\n",
    "# Save the merged data to a new CSV\n",
    "hitter_data.to_csv('merged_hitter_data2.csv', index=False)\n",
    "\n",
    "print(\"Hitter data merged correctly, including all metrics.\")"
   ]
  },
  {
   "cell_type": "code",
   "execution_count": 100,
   "id": "1bbb11d4",
   "metadata": {},
   "outputs": [
    {
     "name": "stdout",
     "output_type": "stream",
     "text": [
      "Pitcher data merged and reordered successfully.\n"
     ]
    }
   ],
   "source": [
    "# Load pitcher datasets\n",
    "pitcher_arsenals = pd.read_csv('pitcher_arsenals.csv')\n",
    "plate_discipline = pd.read_csv('plate_discipline.csv')\n",
    "stuff_plus = pd.read_csv('stuff_plus.csv')\n",
    "\n",
    "# Drop unnecessary columns from pitcher_arsenals and plate_discipline (but keep 'last_name, first_name')\n",
    "pitcher_arsenals = pitcher_arsenals.drop(columns=['NameASCII', 'PlayerID'], errors='ignore')\n",
    "plate_discipline = plate_discipline.drop(columns=['last_name, first_name'], errors='ignore')\n",
    "\n",
    "# Drop 'PlayerID' and 'NameASCII' from stuff_plus, and rename 'MLBAMID' to 'player_id'\n",
    "stuff_plus = stuff_plus.drop(columns=['PlayerID', 'NameASCII'], errors='ignore')\n",
    "stuff_plus = stuff_plus.rename(columns={'MLBAMID': 'player_id'})\n",
    "\n",
    "# Merge pitcher datasets on 'player_id' (first merge the arsenals and plate discipline)\n",
    "pitcher_data = pitcher_arsenals.merge(plate_discipline, on='player_id', how='left')\n",
    "\n",
    "# Now merge the stuff_plus dataset, which contains 'Name', 'Team', and other metrics, on 'player_id'\n",
    "pitcher_data = pitcher_data.merge(stuff_plus, on='player_id', how='left')\n",
    "\n",
    "# Fill missing Name values: if not in stuff_plus, use 'last_name, first_name' column from pitcher_arsenals\n",
    "pitcher_data['Name'] = pitcher_data['Name'].fillna(\n",
    "    pitcher_data['last_name, first_name'].apply(lambda x: ' '.join(x.split(', ')[::-1]) if isinstance(x, str) else '')\n",
    ")\n",
    "\n",
    "# Fill missing Team values from stuff_plus\n",
    "pitcher_data['Team'] = pitcher_data['Team'].fillna('')\n",
    "\n",
    "# Drop 'last_name, first_name' column after it's been used\n",
    "pitcher_data = pitcher_data.drop(columns=['last_name, first_name'], errors='ignore')\n",
    "\n",
    "# Reorder columns to ensure the first three are: player_id, Name, Team\n",
    "column_order = ['player_id', 'Name', 'Team'] + [col for col in pitcher_data.columns if col not in ['player_id', 'Name', 'Team']]\n",
    "pitcher_data = pitcher_data[column_order]\n",
    "\n",
    "# Save the merged data to a new CSV\n",
    "pitcher_data.to_csv('merged_pitcher_data.csv', index=False)\n",
    "\n",
    "print(\"Pitcher data merged and reordered successfully.\")"
   ]
  },
  {
   "cell_type": "code",
   "execution_count": 101,
   "id": "d1522e1f",
   "metadata": {},
   "outputs": [
    {
     "name": "stdout",
     "output_type": "stream",
     "text": [
      "Pitcher data merged successfully with only players appearing in all three datasets.\n"
     ]
    }
   ],
   "source": [
    "# Load pitcher datasets\n",
    "pitcher_arsenals = pd.read_csv('pitcher_arsenals.csv')\n",
    "plate_discipline = pd.read_csv('plate_discipline.csv')\n",
    "stuff_plus = pd.read_csv('stuff_plus.csv')\n",
    "\n",
    "# Rename 'MLBAMID' to 'player_id' in stuff_plus\n",
    "stuff_plus = stuff_plus.rename(columns={'MLBAMID': 'player_id'})\n",
    "\n",
    "# Perform inner joins to keep only players present in all three datasets\n",
    "pitcher_data = pitcher_arsenals.merge(plate_discipline, on='player_id', how='inner')\n",
    "pitcher_data = pitcher_data.merge(stuff_plus, on='player_id', how='inner')\n",
    "\n",
    "# Reorder columns to ensure the first three are: player_id, Name, Team\n",
    "column_order = ['player_id', 'Name', 'Team'] + [col for col in pitcher_data.columns if col not in ['player_id', 'Name', 'Team']]\n",
    "pitcher_data = pitcher_data[column_order]\n",
    "\n",
    "# Save the merged data to a new CSV\n",
    "pitcher_data.to_csv('merged_pitcher_data_inner.csv', index=False)\n",
    "\n",
    "print(\"Pitcher data merged successfully with only players appearing in all three datasets.\")\n"
   ]
  },
  {
   "cell_type": "code",
   "execution_count": 151,
   "id": "b453b454",
   "metadata": {},
   "outputs": [
    {
     "name": "stdout",
     "output_type": "stream",
     "text": [
      "(168465, 223)\n",
      "  count inning  balls  strikes\n",
      "0   0-0     T8      0        0\n",
      "1   0-1     T8      0        1\n",
      "2   1-1     T8      1        1\n",
      "3   2-1     T8      2        1\n",
      "4   3-1     T8      3        1\n",
      "  pitch_type pitch_type_prev   outcome_prev\n",
      "0         FC             NaN            NaN\n",
      "1         FF              FC  Called Strike\n",
      "2         SL              FF           Ball\n",
      "3         FC              SL           Ball\n",
      "4         FF              FC           Ball\n",
      "0    0-0\n",
      "1    0-1\n",
      "2    1-1\n",
      "3    2-1\n",
      "4    3-1\n",
      "Name: count, dtype: object\n",
      "Epoch 1/10\n"
     ]
    },
    {
     "name": "stderr",
     "output_type": "stream",
     "text": [
      "/opt/anaconda3/lib/python3.9/site-packages/keras/src/layers/rnn/rnn.py:200: UserWarning: Do not pass an `input_shape`/`input_dim` argument to a layer. When using Sequential models, prefer using an `Input(shape)` object as the first layer in the model instead.\n",
      "  super().__init__(**kwargs)\n"
     ]
    },
    {
     "name": "stdout",
     "output_type": "stream",
     "text": [
      "\u001b[1m4212/4212\u001b[0m \u001b[32m━━━━━━━━━━━━━━━━━━━━\u001b[0m\u001b[37m\u001b[0m \u001b[1m15s\u001b[0m 3ms/step - accuracy: 0.5911 - loss: 1.1041 - val_accuracy: 0.7588 - val_loss: 0.6119\n",
      "Epoch 2/10\n",
      "\u001b[1m4212/4212\u001b[0m \u001b[32m━━━━━━━━━━━━━━━━━━━━\u001b[0m\u001b[37m\u001b[0m \u001b[1m14s\u001b[0m 3ms/step - accuracy: 0.7401 - loss: 0.6550 - val_accuracy: 0.8106 - val_loss: 0.4954\n",
      "Epoch 3/10\n",
      "\u001b[1m4212/4212\u001b[0m \u001b[32m━━━━━━━━━━━━━━━━━━━━\u001b[0m\u001b[37m\u001b[0m \u001b[1m13s\u001b[0m 3ms/step - accuracy: 0.7783 - loss: 0.5637 - val_accuracy: 0.8286 - val_loss: 0.4362\n",
      "Epoch 4/10\n",
      "\u001b[1m4212/4212\u001b[0m \u001b[32m━━━━━━━━━━━━━━━━━━━━\u001b[0m\u001b[37m\u001b[0m \u001b[1m12s\u001b[0m 3ms/step - accuracy: 0.7998 - loss: 0.5095 - val_accuracy: 0.8465 - val_loss: 0.3928\n",
      "Epoch 5/10\n",
      "\u001b[1m4212/4212\u001b[0m \u001b[32m━━━━━━━━━━━━━━━━━━━━\u001b[0m\u001b[37m\u001b[0m \u001b[1m13s\u001b[0m 3ms/step - accuracy: 0.8097 - loss: 0.4809 - val_accuracy: 0.8507 - val_loss: 0.3747\n",
      "Epoch 6/10\n",
      "\u001b[1m4212/4212\u001b[0m \u001b[32m━━━━━━━━━━━━━━━━━━━━\u001b[0m\u001b[37m\u001b[0m \u001b[1m13s\u001b[0m 3ms/step - accuracy: 0.8198 - loss: 0.4542 - val_accuracy: 0.8590 - val_loss: 0.3533\n",
      "Epoch 7/10\n",
      "\u001b[1m4212/4212\u001b[0m \u001b[32m━━━━━━━━━━━━━━━━━━━━\u001b[0m\u001b[37m\u001b[0m \u001b[1m13s\u001b[0m 3ms/step - accuracy: 0.8220 - loss: 0.4431 - val_accuracy: 0.8621 - val_loss: 0.3418\n",
      "Epoch 8/10\n",
      "\u001b[1m4212/4212\u001b[0m \u001b[32m━━━━━━━━━━━━━━━━━━━━\u001b[0m\u001b[37m\u001b[0m \u001b[1m13s\u001b[0m 3ms/step - accuracy: 0.8278 - loss: 0.4276 - val_accuracy: 0.8631 - val_loss: 0.3396\n",
      "Epoch 9/10\n",
      "\u001b[1m4212/4212\u001b[0m \u001b[32m━━━━━━━━━━━━━━━━━━━━\u001b[0m\u001b[37m\u001b[0m \u001b[1m14s\u001b[0m 3ms/step - accuracy: 0.8317 - loss: 0.4153 - val_accuracy: 0.8675 - val_loss: 0.3272\n",
      "Epoch 10/10\n",
      "\u001b[1m4212/4212\u001b[0m \u001b[32m━━━━━━━━━━━━━━━━━━━━\u001b[0m\u001b[37m\u001b[0m \u001b[1m13s\u001b[0m 3ms/step - accuracy: 0.8345 - loss: 0.4087 - val_accuracy: 0.8689 - val_loss: 0.3200\n"
     ]
    },
    {
     "name": "stderr",
     "output_type": "stream",
     "text": [
      "WARNING:absl:You are saving your model as an HDF5 file via `model.save()` or `keras.saving.save_model(model)`. This file format is considered legacy. We recommend using instead the native Keras format, e.g. `model.save('my_model.keras')` or `keras.saving.save_model(model, 'my_model.keras')`. \n"
     ]
    }
   ],
   "source": [
    "pitch_data = pd.read_csv(\"pitch_data_ids.csv\")\n",
    "hitter_data = pd.read_csv(\"merged_hitter_data.csv\")\n",
    "pitcher_data = pd.read_csv(\"merged_pitcher_data.csv\")\n",
    "\n",
    "# Split the 'hitter_name' into 'last name' and 'first name' to fix formatting later\n",
    "pitch_data[['last_name', 'first_name']] = pitch_data['hitter_name'].str.split(',', expand=True)\n",
    "\n",
    "# Strip any extra spaces from 'first_name' and 'last_name'\n",
    "pitch_data['first_name'] = pitch_data['first_name'].str.strip()\n",
    "pitch_data['last_name'] = pitch_data['last_name'].str.strip()\n",
    "\n",
    "# Change into 'first-name last-name' format to match other CSVs\n",
    "pitch_data['hitter_name_corrected'] = pitch_data['first_name'] + ' ' + pitch_data['last_name']\n",
    "\n",
    "# Merge with hitter_data using the corrected 'hitter_name'\n",
    "pitch_data = pitch_data.merge(hitter_data, left_on=\"hitter_name_corrected\", right_on=\"Name\", how=\"left\")\n",
    "pitch_data = pitch_data.merge(pitcher_data, left_on=\"reliever\", right_on=\"player_id\", how=\"left\")\n",
    "print(pitch_data.shape)\n",
    "\n",
    "# Sort by game and at-bat to maintain sequence integrity\n",
    "pitch_data = pitch_data.sort_values(by=[\"game_id\", \"at_bat_id\", \"pitch_number\"])\n",
    "\n",
    "# Convert 'count' to 'balls' and 'strikes'\n",
    "pitch_data[['balls', 'strikes']] = pitch_data['count'].str.split('-', expand=True).astype(int)\n",
    "print(pitch_data[['count', 'inning', 'balls', 'strikes']].head())\n",
    "\n",
    "# Convert 'inning' to numerical\n",
    "pitch_data['inning_number'] = pitch_data['inning'].str[1:].astype(int)\n",
    "pitch_data['inning_half'] = pitch_data['inning'].str[0].map({'T': 0, 'B': 1})\n",
    "\n",
    "# Create previous pitch features to add more context\n",
    "pitch_data[\"pitch_type_prev\"] = pitch_data.groupby(\"at_bat_id\")[\"pitch_type\"].shift(1)\n",
    "pitch_data[\"outcome_prev\"] = pitch_data.groupby(\"at_bat_id\")[\"outcome\"].shift(1)\n",
    "print(pitch_data[['pitch_type', 'pitch_type_prev', 'outcome_prev']].head())\n",
    "print(pitch_data['count'].head())\n",
    "\n",
    "# Drop NaN values\n",
    "#pitch_data = pitch_data.dropna()\n",
    "\n",
    "# Encode categorical features\n",
    "label_encoders = {}\n",
    "categorical_features = [\"pitch_type\", \"pitch_type_prev\", \"outcome_prev\", \"bat_side\"]\n",
    "for feature in categorical_features:\n",
    "    le = LabelEncoder()\n",
    "    pitch_data[feature] = le.fit_transform(pitch_data[feature])\n",
    "    label_encoders[feature] = le\n",
    "\n",
    "# Select features and target\n",
    "features = [\n",
    "    # Pitch-by-pitch metrics\n",
    "    \"balls\", \"strikes\", \"inning_number\", \"inning_half\", \"pitch_number\", \"velocity\", \n",
    "    \"pitch_type_prev\", \"outcome_prev\",\n",
    "    \n",
    "    # Hitter Metrics\n",
    "    \"O-Swing%\", \"Z-Swing%\", \"Swing%\", \"O-Contact%\", \"Z-Contact%\", \"Contact%\", \"Zone%\", \n",
    "    \"F-Strike%\", \"SwStr%\", \"CStr%\", \"CSW%\",\n",
    "\n",
    "    # Pitcher Metrics\n",
    "    \"ff_avg_speed\", \"ff_avg_spin\", \"ff_avg_break_x\", \"ff_avg_break_z_induced\",\n",
    "    \"sl_avg_speed\", \"sl_avg_spin\", \"sl_avg_break_x\", \"sl_avg_break_z_induced\",\n",
    "    \"whiff_percent\", \"edge_percent\", \"in_zone_percent\"\n",
    "]\n",
    "target = \"pitch_type\"\n",
    "\n",
    "X = pitch_data[features]\n",
    "y = pitch_data[target]\n",
    "\n",
    "# Fill in missing values with the mean \n",
    "# This is experimental right now\n",
    "X = X.fillna(X.mean())\n",
    "\n",
    "# Standardize numerical features\n",
    "scaler = StandardScaler()\n",
    "X[features] = scaler.fit_transform(X[features])\n",
    "\n",
    "# Reshape for LSTM\n",
    "X = np.array(X).reshape((X.shape[0], 1, X.shape[1]))\n",
    "y = np.array(y)\n",
    "\n",
    "# Train & test split\n",
    "X_train, X_test, y_train, y_test = train_test_split(X, y, test_size=0.2, random_state=42)\n",
    "\n",
    "# Define the model\n",
    "model = Sequential([\n",
    "    LSTM(50, return_sequences=True, input_shape=(X.shape[1], X.shape[2])),\n",
    "    Dropout(0.2),\n",
    "    LSTM(50, return_sequences=False),\n",
    "    Dropout(0.2),\n",
    "    Dense(50, activation=\"relu\"),\n",
    "    Dense(len(label_encoders[\"pitch_type\"].classes_), activation=\"softmax\")\n",
    "])\n",
    "\n",
    "# Compile\n",
    "model.compile(loss=\"sparse_categorical_crossentropy\", optimizer=\"adam\", metrics=[\"accuracy\"])\n",
    "\n",
    "# Train\n",
    "history = model.fit(X_train, y_train, epochs=10, batch_size=32, validation_data=(X_test, y_test))\n",
    "\n",
    "# Save\n",
    "model.save(\"pitch_sequencing_model.h5\")"
   ]
  },
  {
   "cell_type": "code",
   "execution_count": 152,
   "id": "3103f383",
   "metadata": {},
   "outputs": [
    {
     "name": "stdout",
     "output_type": "stream",
     "text": [
      "\u001b[1m1053/1053\u001b[0m \u001b[32m━━━━━━━━━━━━━━━━━━━━\u001b[0m\u001b[37m\u001b[0m \u001b[1m1s\u001b[0m 1ms/step - accuracy: 0.8690 - loss: 0.3177\n",
      "Test Loss: 0.31995120644569397\n",
      "Test Accuracy: 0.8689045310020447\n"
     ]
    }
   ],
   "source": [
    "# Evaluate the model on the test set\n",
    "loss, accuracy = model.evaluate(X_test, y_test)\n",
    "print(f\"Test Loss: {loss}\")\n",
    "print(f\"Test Accuracy: {accuracy}\")"
   ]
  },
  {
   "cell_type": "code",
   "execution_count": 153,
   "id": "7187135f",
   "metadata": {},
   "outputs": [
    {
     "name": "stdout",
     "output_type": "stream",
     "text": [
      "\u001b[1m1053/1053\u001b[0m \u001b[32m━━━━━━━━━━━━━━━━━━━━\u001b[0m\u001b[37m\u001b[0m \u001b[1m1s\u001b[0m 1ms/step\n",
      "Predicted classes: [2 0 3 3 8 8 3 4 8 2]\n",
      "True values: [2 2 3 3 3 8 3 4 8 2]\n"
     ]
    }
   ],
   "source": [
    "# Make predictions using test set\n",
    "y_pred = model.predict(X_test)\n",
    "\n",
    "# y_pred = predicted probabilities\n",
    "# o choose the class with the highest probability\n",
    "y_pred_classes = np.argmax(y_pred, axis=1)\n",
    "\n",
    "# Show first 10 predictions with true values\n",
    "print(\"Predicted classes:\", y_pred_classes[:10])\n",
    "print(\"True values:\", y_test[:10])"
   ]
  },
  {
   "cell_type": "code",
   "execution_count": 154,
   "id": "c1372643",
   "metadata": {},
   "outputs": [
    {
     "name": "stdout",
     "output_type": "stream",
     "text": [
      "Confusion Matrix:\n",
      "[[1807   15  139   15    2    4    0    0    5  394  170    5]\n",
      " [  11 1347    0    0    0    0    0    0    0   15   36   12]\n",
      " [ 123    4 2250   47   36    7    0    0   93   79   18    0]\n",
      " [   7    0   47 9468    6    0    0    0  899    3    0    0]\n",
      " [   2    2    9    5  945    0    0    0    1   53   25    0]\n",
      " [  23    2    0    0    0  383    0    0    0    2    1    0]\n",
      " [   0    0    1    0    0    0    0    0    1    0    0    0]\n",
      " [   0    0    0    0    0    0    0   23    0    0    0    0]\n",
      " [   1    0  116 1297    2    0    0    0 4851    6    0    0]\n",
      " [ 181   31   62    6   90   16    0    0   13 6054  148    5]\n",
      " [  11   25   12    0   31    2    0    0    0   39 2072    0]\n",
      " [   0    3    0    0    0    0    0    0    0    1    0   76]]\n"
     ]
    }
   ],
   "source": [
    "# Generate the confusion matrix\n",
    "cm = confusion_matrix(y_test, y_pred_classes)\n",
    "print(\"Confusion Matrix:\")\n",
    "print(cm)"
   ]
  },
  {
   "cell_type": "code",
   "execution_count": 155,
   "id": "fd154db2",
   "metadata": {},
   "outputs": [
    {
     "name": "stdout",
     "output_type": "stream",
     "text": [
      "Classification Report:\n",
      "              precision    recall  f1-score   support\n",
      "\n",
      "           0       0.83      0.71      0.77      2556\n",
      "           1       0.94      0.95      0.95      1421\n",
      "           2       0.85      0.85      0.85      2657\n",
      "           3       0.87      0.91      0.89     10430\n",
      "           4       0.85      0.91      0.88      1042\n",
      "           5       0.93      0.93      0.93       411\n",
      "           6       0.00      0.00      0.00         2\n",
      "           7       1.00      1.00      1.00        23\n",
      "           8       0.83      0.77      0.80      6273\n",
      "           9       0.91      0.92      0.91      6606\n",
      "          10       0.84      0.95      0.89      2192\n",
      "          11       0.78      0.95      0.85        80\n",
      "\n",
      "    accuracy                           0.87     33693\n",
      "   macro avg       0.80      0.82      0.81     33693\n",
      "weighted avg       0.87      0.87      0.87     33693\n",
      "\n"
     ]
    },
    {
     "name": "stderr",
     "output_type": "stream",
     "text": [
      "/opt/anaconda3/lib/python3.9/site-packages/sklearn/metrics/_classification.py:1318: UndefinedMetricWarning: Precision and F-score are ill-defined and being set to 0.0 in labels with no predicted samples. Use `zero_division` parameter to control this behavior.\n",
      "  _warn_prf(average, modifier, msg_start, len(result))\n",
      "/opt/anaconda3/lib/python3.9/site-packages/sklearn/metrics/_classification.py:1318: UndefinedMetricWarning: Precision and F-score are ill-defined and being set to 0.0 in labels with no predicted samples. Use `zero_division` parameter to control this behavior.\n",
      "  _warn_prf(average, modifier, msg_start, len(result))\n",
      "/opt/anaconda3/lib/python3.9/site-packages/sklearn/metrics/_classification.py:1318: UndefinedMetricWarning: Precision and F-score are ill-defined and being set to 0.0 in labels with no predicted samples. Use `zero_division` parameter to control this behavior.\n",
      "  _warn_prf(average, modifier, msg_start, len(result))\n"
     ]
    }
   ],
   "source": [
    "# Print the classification report\n",
    "print(\"Classification Report:\")\n",
    "print(classification_report(y_test, y_pred_classes))"
   ]
  },
  {
   "cell_type": "code",
   "execution_count": 158,
   "id": "bf417528",
   "metadata": {},
   "outputs": [
    {
     "data": {
      "image/png": "[encoded data removed]",
      "text/plain": [
       "<Figure size 1200x600 with 2 Axes>"
      ]
     },
     "metadata": {},
     "output_type": "display_data"
    }
   ],
   "source": [
    "plt.figure(figsize=(12, 6))\n",
    "\n",
    "# Plot training and validation accuracy\n",
    "plt.subplot(1, 2, 1)\n",
    "plt.plot(history.history['accuracy'], label='Train Accuracy')\n",
    "plt.plot(history.history['val_accuracy'], label='Validation Accuracy')\n",
    "plt.title('Model Accuracy')\n",
    "plt.xlabel('Epoch')\n",
    "plt.ylabel('Accuracy')\n",
    "plt.legend()\n",
    "\n",
    "# Plot training and validation loss\n",
    "plt.subplot(1, 2, 2)\n",
    "plt.plot(history.history['loss'], label='Train Loss')\n",
    "plt.plot(history.history['val_loss'], label='Validation Loss')\n",
    "plt.title('Model Loss')\n",
    "plt.xlabel('Epoch')\n",
    "plt.ylabel('Loss')\n",
    "plt.legend()\n",
    "\n",
    "plt.tight_layout()\n",
    "plt.show()"
   ]
  },
  {
   "cell_type": "code",
   "execution_count": null,
   "id": "97ccf80f",
   "metadata": {},
   "outputs": [],
   "source": []
  }
 ],
 "metadata": {
  "kernelspec": {
   "display_name": "Python 3 (ipykernel)",
   "language": "python",
   "name": "python3"
  },
  "language_info": {
   "codemirror_mode": {
    "name": "ipython",
    "version": 3
   },
   "file_extension": ".py",
   "mimetype": "text/x-python",
   "name": "python",
   "nbconvert_exporter": "python",
   "pygments_lexer": "ipython3",
   "version": "3.9.19"
  }
 },
 "nbformat": 4,
 "nbformat_minor": 5
}
